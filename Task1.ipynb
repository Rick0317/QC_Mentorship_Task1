{
 "cells": [
  {
   "cell_type": "code",
   "execution_count": 2,
   "id": "7abd368c-2459-4420-a354-af0888467936",
   "metadata": {},
   "outputs": [],
   "source": [
    "import numpy as np\n",
    "\n",
    "# Importing standard Qiskit libraries\n",
    "from qiskit import QuantumCircuit, execute, Aer, assemble, QuantumCircuit, ClassicalRegister, QuantumRegister\n",
    "from qiskit.compiler import transpile\n",
    "from qiskit.providers.ibmq.job import job_monitor\n"
   ]
  },
  {
   "cell_type": "code",
   "execution_count": null,
   "id": "5e341a44",
   "metadata": {},
   "outputs": [],
   "source": [
    "def multiply(num1, num2):\n",
    "    \"\"\"\n",
    "    Description for multiplier can be seen on README file\n",
    "    \"\"\"\n",
    "    ### Prepare QuantumRegisters based on num1, num2 ### \n",
    "    num1_qubits = np.floor(np.log2(num1)+1)\n",
    "    num2_qubits = np.floor(np.log2(num2)+1)\n",
    "    l1 = int(num1_qubits)\n",
    "    l2 = int(num2_qubits)\n",
    "    multiplicand_in = np.binary_repr(num1)\n",
    "    multiplier_in = np.binary_repr(num2)\n",
    "    \n",
    "    if l2 > l1:\n",
    "        multiplier_in, multiplicand_in = multiplicand_in, multiplier_in\n",
    "        l2, l1 = l1, l2\n",
    "    multiplicand = QuantumRegister(l1)\n",
    "    multiplier = QuantumRegister(l2)\n",
    "    accumulator = QuantumRegister(l1 + l2)\n",
    "    cl = ClassicalRegister(l1 + l2)\n",
    "    d = QuantumRegister(1)\n",
    "    ### Circuit for our case ### \n",
    "    qc = QuantumCircuit(accumulator, multiplier, multiplicand,\n",
    "    d, cl, name=\"qc\")\n",
    "\n",
    "    ### Prepare Registers based on num1, num2### \n",
    "    qc.x(d)\n",
    "    for i in range(l1):\n",
    "        if multiplicand_in[i] == '1':\n",
    "            qc.x(multiplicand[l1 - i - 1])\n",
    "\n",
    "        for i in range(l2):\n",
    "            if multiplier_in[i] == '1':\n",
    "                qc.x(multiplier[l1 - i - 1])\n",
    "    \n",
    "    multiplier_str = '1'\n",
    "\n",
    "    while(int(multiplier_str) != 0):\n",
    "        n = len(accumulator) - 1\n",
    "\n",
    "        ### QFT on the accumulator registers to create the superposition state ###\n",
    "        for i in range(0, n + 1):\n",
    "            qc.h(accumulator[n - i])\n",
    "            for k in range(0, n - i):\n",
    "                qc.cu1(np.pi / float(2**(k + 1)), accumulator[n - i - (k + 1)], accumulator[n - i])\n",
    "        ### Rotation ###\n",
    "        for i in range(0, n + 1):\n",
    "            l = len(multiplicand)\n",
    "            for k in range(0, n - i + 1):\n",
    "                if (n - i - k) > l - 1:\n",
    "                    pass\n",
    "                else:\n",
    "                    qc.cu1(1*np.pi / float(2**(k)), multiplicand[n - i - k], accumulator[n - i])\n",
    "        ### Inverse QFT ### \n",
    "        for i in range(0, n + 1):\n",
    "            for k in range(0, i):\n",
    "                qc.cu1(-1 * np.pi / float(2**(i - k)), accumulator[k], accumulator[i])\n",
    "            qc.h(accumulator[i])\n",
    "\n",
    "        n = len(multiplier) - 1\n",
    "\n",
    "        ### QFT on multiplier register ### \n",
    "        for i in range(0, n + 1):\n",
    "            qc.h(multiplier[n - i])\n",
    "            for k in range(0, n - i):\n",
    "                qc.cu1(np.pi / float(2**(k + 1)), multiplier[n - i - (k + 1)], multiplier[n - i])\n",
    "        ### Rotation gates to decrease the number of multiplier by 1 ### \n",
    "        for i in range(0, n + 1):\n",
    "            l = len(d)\n",
    "            for k in range(0, n - i + 1):\n",
    "                if (n - i - k) > l - 1:\n",
    "                    pass\n",
    "                else:\n",
    "                    qc.cu1(-1*np.pi / float(2**(k)), d[n - i - k], multiplier[n - i])\n",
    "        ### Inverse QFT ###\n",
    "        for i in range(0, n + 1):\n",
    "            for k in range(0, i):\n",
    "                qc.cu1(-1 * np.pi / float(2**(i - k)), multiplier[k], multiplier[i])\n",
    "            qc.h(multiplier[i])\n",
    "        \n",
    "        ### measure to see whether the multiplier is 0 or not ###\n",
    "        for i in range(len(multiplier)):\n",
    "            qc.measure(multiplier[i], cl[i])\n",
    "        result = execute(qc, backend=Aer.get_backend('qasm_simulator'),\n",
    "                        shots=2).result().get_counts(qc.name)\n",
    "        multiplier_str = list(result.keys())[0]\n",
    "\n",
    "    qc.measure(accumulator, cl)\n",
    "    result = execute(qc, backend=Aer.get_backend('qasm_simulator'),\n",
    "                shots=2).result().get_counts(qc.name)\n",
    "\n",
    "    print(result)"
   ]
  },
  {
   "cell_type": "code",
   "execution_count": null,
   "id": "0f8e7323-6d76-431e-aad9-990fcdec843b",
   "metadata": {},
   "outputs": [],
   "source": [
    "def multiplier(num1: int, num2: int):\n",
    "    \"\"\"\n",
    "    Multiplier function I made by myself without copying the results from the past paper\n",
    "    \"\"\"\n",
    "    ### Encoding ###\n",
    "    qubits1 = int(np.floor(np.log2(num1-1))+1)\n",
    "    qubits2 = int(np.floor(np.log2(num2))+1)\n",
    "    num1_bi = np.binary_repr(num1-1)\n",
    "    num2_bi = np.binary_repr(num2)\n",
    "    \n",
    "    ### Define the Quantum Circuit ###\n",
    "    qc = QuantumCircuit(qubits1 + 2*qubits2,3)\n",
    "    \n",
    "    for i in range(qubits1):\n",
    "        if num1_bi[i] == \"1\":\n",
    "            qc.x(i)\n",
    "    for i in range(qubits2):\n",
    "        if num2_bi[i] == \"1\":\n",
    "            qc.x(qubits1 + i)\n",
    "            qc.x(qubits1 + qubits2 + i)\n",
    "    \n",
    "    ### Apply QFT to the second 5 register ###\n",
    "    qft = QuantumCircuit(qubits2)\n",
    "    for qubit in range(qubits2-1):\n",
    "        qft.h(qubits2-qubit-1)\n",
    "        for control in range(qubits2-qubit-1):\n",
    "            qft.cp(np.pi/2**(control + 1), qubits2-qubit-control-2, qubits2-qubit-1)\n",
    "    qft.h(0)\n",
    "    for qubit in range(qubits2//2):\n",
    "        qft.swap(qubit, qubits2-qubit-1)\n",
    "\n",
    "    qc.append(qft, [qubit+qubits1+qubits2 for qubit in range(qubits2)])\n",
    "\n",
    "    ### Create the controlled U gate ### \n",
    "    qcu = QuantumCircuit(2*qubits2)\n",
    "    for qubit in range(qubits2):\n",
    "        for qubit2 in range(qubits2-qubit):\n",
    "            qcu.cp(np.pi/2**(qubit2), qubit+qubit2, qubits2 + qubit)\n",
    "    cu_gate = qcu.to_gate().control(1)\n",
    "    \n",
    "    ### Apply cu_gate to qc ###\n",
    "    for qubit in range(qubits1):\n",
    "        for p in range(qubits1-qubit):\n",
    "            qc.append(cu_gate, [qubits1-1-qubit]+[qubits1 + i for i in range(2*qubits2)])\n",
    "    \n",
    "    ### Apply inverse QFT ###\n",
    "    iqft = qft.inverse()\n",
    "    qc.append(iqft, [qubit+qubits1+qubits2 for qubit in range(qubits2)])\n",
    "\n",
    "    ### Measure the phase ###\n",
    "    for n in range(qubits2):\n",
    "        qc.measure(n+qubits1+qubits2, n)\n",
    "    print(qc)\n",
    "\n",
    "    ### Run the code on the simulator ###\n",
    "    backend = Aer.get_backend('aer_simulator')\n",
    "    shots = 2048\n",
    "    transpiled_qc = transpile(qc, backend, optimization_level=3)\n",
    "    job = backend.run(transpiled_qc, shots=shots)\n",
    "    job_monitor(job)\n",
    "    counts = job.result().get_counts()\n",
    "    return counts"
   ]
  },
  {
   "cell_type": "code",
   "execution_count": null,
   "id": "b0c2820c",
   "metadata": {},
   "outputs": [],
   "source": [
    "def multiplier2(num1: int, num2: int) -> int:\n",
    "    \"\"\"\n",
    "    \"\"\"\n",
    "    ### Encoding and setting the quantum circuit###\n",
    "    num1_qubits = np.floor(np.log2(num1)+1)\n",
    "    num2_qubits = np.floor(np.log2(num2)+1)\n",
    "    qubits1 = int(num1_qubits)\n",
    "    qubits2 = int(num2_qubits)\n",
    "    num1_bi = np.binary_repr(num1)\n",
    "    num2_bi = np.binary_repr(num2)\n",
    "    qc = QuantumCircuit(2*(qubits1 + qubits2)+1, qubits1 + qubits2+1)\n",
    "    for i in range(qubits1):\n",
    "        if num1_bi[i] == \"1\":\n",
    "            qc.x(i)\n",
    "    for i in range(qubits2):\n",
    "        if num2_bi[i] == \"1\":\n",
    "            qc.x(qubits1 + i)\n",
    "    ### Applying QFT to the input of zeros ###\n",
    "    qft = QuantumCircuit(qubits1 + qubits2+1, name=\"QFT\")\n",
    "    for qubit in range(qubits1 + qubits2):\n",
    "        qft.h(qubits1 + qubits2-qubit)\n",
    "        for control in range(qubits1 + qubits2-qubit-1):\n",
    "            qft.cp(np.pi/2**(control + 1), qubits1 + qubits2-qubit-control-1, qubits1 + qubits2-qubit)\n",
    "        qft.barrier()\n",
    "    qft.h(0)\n",
    "    for qubit in range((qubits1 + qubits2+1)//2):\n",
    "        qft.swap(qubit, qubits1 + qubits2-qubit)\n",
    "    print(qft)\n",
    "    qc.append(qft, [qubit+qubits1+qubits2 for qubit in range(qubits1 + qubits2+1)])\n",
    "    \n",
    "    ### Create the rotation gate ###\n",
    "    for i in range(qubits1):\n",
    "        \n",
    "        rot_gate = QuantumCircuit(qubits1 + 2*qubits2+1, name=\"controlled rotation\")\n",
    "        for k in range(qubits2):\n",
    "            rot_gate.crz(np.pi/2**(k+1), k+i, qubits2+i)\n",
    "            \n",
    "        for qubit in range(qubits1):\n",
    "            for control in range(qubits1-qubit):\n",
    "                rot_gate.crz(np.pi/2**(control), qubit+control, i + qubits1+ qubit+1)\n",
    "            \n",
    "        \n",
    "        crot_gate = rot_gate.to_gate().control(1)\n",
    "        qc.append(crot_gate, [qubits1 - i -1] + [qubits1 +qubit for qubit in range(qubits1 + 2*qubits2+1)])\n",
    "        print(rot_gate)\n",
    "        \n",
    "    ### Apply inverse QFT ###\n",
    "    iqft = qft.inverse()\n",
    "    qc.append(iqft, [qubit+qubits1+qubits2 for qubit in range(qubits1 + qubits2+1)])\n",
    "    \n",
    "    \n",
    "    ### Measure the phase ###\n",
    "    for n in range(qubits1 + qubits2+1):\n",
    "        qc.measure(n+qubits1+qubits2, n)\n",
    "    \n",
    "    print(qc)\n",
    "    ### Run the circuit on simulator ### \n",
    "    backend = Aer.get_backend('aer_simulator')\n",
    "    shots = 2048\n",
    "    transpiled_qc = transpile(qc, backend, optimization_level=3)\n",
    "    job = backend.run(transpiled_qc, shots=shots)\n",
    "    job_monitor(job)\n",
    "    counts = job.result().get_counts()\n",
    "    return counts"
   ]
  }
 ],
 "metadata": {
  "kernelspec": {
   "display_name": "Python 3.10.5 64-bit",
   "language": "python",
   "name": "python3"
  },
  "language_info": {
   "codemirror_mode": {
    "name": "ipython",
    "version": 3
   },
   "file_extension": ".py",
   "mimetype": "text/x-python",
   "name": "python",
   "nbconvert_exporter": "python",
   "pygments_lexer": "ipython3",
   "version": "3.10.5"
  },
  "vscode": {
   "interpreter": {
    "hash": "7e1998ff7f8aa20ada591c520b972326324e5ea05489af9e422744c7c09f6dad"
   }
  },
  "widgets": {
   "application/vnd.jupyter.widget-state+json": {
    "state": {
     "0be42dec4e334868891bba28278e9156": {
      "model_module": "@jupyter-widgets/base",
      "model_module_version": "1.2.0",
      "model_name": "LayoutModel",
      "state": {
       "width": "145px"
      }
     },
     "150501db90424207831bf8d3a936265c": {
      "model_module": "@jupyter-widgets/base",
      "model_module_version": "1.2.0",
      "model_name": "LayoutModel",
      "state": {
       "width": "190px"
      }
     },
     "1cbedc440bbf4a268248f71440515770": {
      "model_module": "@jupyter-widgets/controls",
      "model_module_version": "1.5.0",
      "model_name": "DescriptionStyleModel",
      "state": {
       "description_width": ""
      }
     },
     "23d04d165e44497a8534d8ac6ca752e2": {
      "model_module": "@jupyter-widgets/controls",
      "model_module_version": "1.5.0",
      "model_name": "ButtonModel",
      "state": {
       "button_style": "primary",
       "description": "Clear",
       "layout": "IPY_MODEL_5228ca8c877f462cbb059ad814633a52",
       "style": "IPY_MODEL_7021c03cdfb64b238334ba8a653d013a"
      }
     },
     "2b565b58229d4f738fed921bcb5799ee": {
      "model_module": "@jupyter-widgets/controls",
      "model_module_version": "1.5.0",
      "model_name": "HBoxModel",
      "state": {
       "children": [
        "IPY_MODEL_70459ecfd53546049bdea8b237af791c",
        "IPY_MODEL_7c46f69eee8948beb5c3e16beca40ddb",
        "IPY_MODEL_edf8341ade6b4864bf4f8ba01d606a2b",
        "IPY_MODEL_e2a3460a9cda43b793208b8fa7382d43",
        "IPY_MODEL_b0f887b552214851a22b022d9aae9368"
       ],
       "layout": "IPY_MODEL_9fa8e250845f4f208f616fd141a12244"
      }
     },
     "3152285fd724481ba8ae198283da5dea": {
      "model_module": "@jupyter-widgets/controls",
      "model_module_version": "1.5.0",
      "model_name": "DescriptionStyleModel",
      "state": {
       "description_width": ""
      }
     },
     "5228ca8c877f462cbb059ad814633a52": {
      "model_module": "@jupyter-widgets/base",
      "model_module_version": "1.2.0",
      "model_name": "LayoutModel",
      "state": {
       "grid_area": "right",
       "padding": "0px 0px 0px 0px",
       "width": "70px"
      }
     },
     "6bd0fc8be9324cc1af886566e47bfe1d": {
      "model_module": "@jupyter-widgets/base",
      "model_module_version": "1.2.0",
      "model_name": "LayoutModel",
      "state": {
       "grid_template_areas": "\n                                       \". . . . right \"\n                                        ",
       "grid_template_columns": "20% 20% 20% 20% 20%",
       "width": "100%"
      }
     },
     "7021c03cdfb64b238334ba8a653d013a": {
      "model_module": "@jupyter-widgets/controls",
      "model_module_version": "1.5.0",
      "model_name": "ButtonStyleModel",
      "state": {}
     },
     "70459ecfd53546049bdea8b237af791c": {
      "model_module": "@jupyter-widgets/controls",
      "model_module_version": "1.5.0",
      "model_name": "HTMLModel",
      "state": {
       "layout": "IPY_MODEL_150501db90424207831bf8d3a936265c",
       "style": "IPY_MODEL_1cbedc440bbf4a268248f71440515770",
       "value": "<h5>Job ID</h5>"
      }
     },
     "7c46f69eee8948beb5c3e16beca40ddb": {
      "model_module": "@jupyter-widgets/controls",
      "model_module_version": "1.5.0",
      "model_name": "HTMLModel",
      "state": {
       "layout": "IPY_MODEL_0be42dec4e334868891bba28278e9156",
       "style": "IPY_MODEL_3152285fd724481ba8ae198283da5dea",
       "value": "<h5>Backend</h5>"
      }
     },
     "86e6251c9df142b79c8434c454fef827": {
      "model_module": "@jupyter-widgets/controls",
      "model_module_version": "1.5.0",
      "model_name": "GridBoxModel",
      "state": {
       "children": [
        "IPY_MODEL_23d04d165e44497a8534d8ac6ca752e2"
       ],
       "layout": "IPY_MODEL_6bd0fc8be9324cc1af886566e47bfe1d"
      }
     },
     "9fa8e250845f4f208f616fd141a12244": {
      "model_module": "@jupyter-widgets/base",
      "model_module_version": "1.2.0",
      "model_name": "LayoutModel",
      "state": {
       "margin": "0px 0px 0px 37px",
       "width": "600px"
      }
     },
     "af6149b4b78b4f99852f82c6f5fb70e4": {
      "model_module": "@jupyter-widgets/controls",
      "model_module_version": "1.5.0",
      "model_name": "DescriptionStyleModel",
      "state": {
       "description_width": ""
      }
     },
     "b0f887b552214851a22b022d9aae9368": {
      "model_module": "@jupyter-widgets/controls",
      "model_module_version": "1.5.0",
      "model_name": "HTMLModel",
      "state": {
       "layout": "IPY_MODEL_e11585c212de4fc2ba642c4fbd47d030",
       "style": "IPY_MODEL_fe24094c986043ae82aa5002e77e95cd",
       "value": "<h5>Message</h5>"
      }
     },
     "ce2a05e525b2455d932e1d331f6058c3": {
      "model_module": "@jupyter-widgets/base",
      "model_module_version": "1.2.0",
      "model_name": "LayoutModel",
      "state": {
       "width": "70px"
      }
     },
     "ce50d7bdca604ce4b7f7a9015d9f3731": {
      "model_module": "@jupyter-widgets/controls",
      "model_module_version": "1.5.0",
      "model_name": "DescriptionStyleModel",
      "state": {
       "description_width": ""
      }
     },
     "dbbac1bc87274156b82ff7656d08fdbd": {
      "model_module": "@jupyter-widgets/controls",
      "model_module_version": "1.5.0",
      "model_name": "DescriptionStyleModel",
      "state": {
       "description_width": ""
      }
     },
     "e11585c212de4fc2ba642c4fbd47d030": {
      "model_module": "@jupyter-widgets/base",
      "model_module_version": "1.2.0",
      "model_name": "LayoutModel",
      "state": {}
     },
     "e2a3460a9cda43b793208b8fa7382d43": {
      "model_module": "@jupyter-widgets/controls",
      "model_module_version": "1.5.0",
      "model_name": "HTMLModel",
      "state": {
       "layout": "IPY_MODEL_ce2a05e525b2455d932e1d331f6058c3",
       "style": "IPY_MODEL_af6149b4b78b4f99852f82c6f5fb70e4",
       "value": "<h5>Queue</h5>"
      }
     },
     "e4eaa362f4424ef98f1aa44d802e7e0b": {
      "model_module": "@jupyter-widgets/base",
      "model_module_version": "1.2.0",
      "model_name": "LayoutModel",
      "state": {
       "width": "95px"
      }
     },
     "e95dbe6d81dc46db8bc21cd666f68ddb": {
      "model_module": "@jupyter-widgets/base",
      "model_module_version": "1.2.0",
      "model_name": "LayoutModel",
      "state": {
       "margin": "0px 0px 10px 0px"
      }
     },
     "ea44ae16e8b549e3a95ceb77abc71ebb": {
      "model_module": "@jupyter-widgets/controls",
      "model_module_version": "1.5.0",
      "model_name": "HTMLModel",
      "state": {
       "layout": "IPY_MODEL_e95dbe6d81dc46db8bc21cd666f68ddb",
       "style": "IPY_MODEL_dbbac1bc87274156b82ff7656d08fdbd",
       "value": "<p style='font-family: IBM Plex Sans, Arial, Helvetica, sans-serif; font-size: 20px; font-weight: medium;'>Circuit Properties</p>"
      }
     },
     "edf8341ade6b4864bf4f8ba01d606a2b": {
      "model_module": "@jupyter-widgets/controls",
      "model_module_version": "1.5.0",
      "model_name": "HTMLModel",
      "state": {
       "layout": "IPY_MODEL_e4eaa362f4424ef98f1aa44d802e7e0b",
       "style": "IPY_MODEL_ce50d7bdca604ce4b7f7a9015d9f3731",
       "value": "<h5>Status</h5>"
      }
     },
     "fe24094c986043ae82aa5002e77e95cd": {
      "model_module": "@jupyter-widgets/controls",
      "model_module_version": "1.5.0",
      "model_name": "DescriptionStyleModel",
      "state": {
       "description_width": ""
      }
     }
    },
    "version_major": 2,
    "version_minor": 0
   }
  }
 },
 "nbformat": 4,
 "nbformat_minor": 5
}
