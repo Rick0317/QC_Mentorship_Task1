{
 "cells": [
  {
   "cell_type": "code",
   "execution_count": 2,
   "id": "7abd368c-2459-4420-a354-af0888467936",
   "metadata": {},
   "outputs": [],
   "source": [
    "import numpy as np\n",
    "\n",
    "# Importing standard Qiskit libraries\n",
    "from qiskit import QuantumCircuit, execute, Aer, assemble\n",
    "from qiskit.visualization import plot_bloch_multivector, plot_histogram, array_to_latex\n",
    "from qiskit.compiler import transpile\n",
    "from qiskit.providers.ibmq.job import job_monitor\n",
    "from qiskit.result import marginal_counts"
   ]
  },
  {
   "cell_type": "code",
   "execution_count": null,
   "id": "0f8e7323-6d76-431e-aad9-990fcdec843b",
   "metadata": {},
   "outputs": [],
   "source": [
    "def multiplier(int: num1, int: num2) -> int:\n",
    "    \"\"\"\n",
    "    A function that returns the result of multiplication of num1 and num2.\n",
    "    \n",
    "    num1: integer positive value (the first parameter to the multiplier function)\n",
    "    num2: integer positive value (the second parameter to the multiplier function)\n",
    "    \n",
    "    return: integer that represents num1 * num2\n",
    "    \"\"\"\n",
    "    # First, we want to translate our num1 into qubit inputs.\n",
    "    num1_qubits = np.floor(np.log2(num1)+1)\n",
    "    num2_qubits = np.floor(np.log2(num2)+1)\n",
    "    qubits1 = int(num1_qubits)\n",
    "    qubits2 = int(num2_qubits)\n",
    "    num1_bi = np.binary_repr(num1)\n",
    "    num2_bi = np.binary_repr(num2)\n",
    "    qc = QuantumCircuit(qubits1 + qubits2 + 2, 1)\n",
    "\n",
    "    qc2 = QuantumCircuit(qubits2 + 1)\n",
    "    \n",
    "    qc.h(2* qubits1 + qubits2-1)\n",
    "    \n",
    "    # Now we use distribution rule to change the idea of multiplication into addition.\n",
    "    for i in range(qubits1):\n",
    "        if num1_bi[i] == \"1\":\n",
    "            qc.x(i)\n",
    "    for i in range(qubits2):\n",
    "        if num2_bi[i] == \"1\":\n",
    "            qc.x(i + int(num1_qubits))\n",
    "    qc.x(qubits1+qubits2)\n",
    "         \n",
    "    for i in range(qubits2):\n",
    "        qc2.crx(np.pi*2**(qubits2-i)/2**(qubits2),i, qubits2)\n",
    "    \n",
    "    u_gate = qc2.to_gate()\n",
    "    cu_gate = u_gate.control(1)\n",
    "    for i in range(qubits1):\n",
    "        for k in range(qubits1-i):\n",
    "            qc.append(cu_gate, [i] + [m+qubits1 for m in range(qubits2 + 1)])\n",
    "    \n",
    "   \n",
    "    qc.measure(2* qubits1 + qubits2-1, 0)\n",
    "    print(qc)\n",
    "    print(qc2)\n",
    "    svsim = Aer.get_backend('aer_simulator')\n",
    "    result = transpile(qc, backend=svsim)\n",
    "    result.save_statevector()\n",
    "    qobj = assemble(result)\n",
    "    final_state = svsim.run(qobj).result().get_statevector()\n",
    "    return plot_bloch_multivector(final_state)"
   ]
  }
 ],
 "metadata": {
  "kernelspec": {
   "display_name": "Python 3 (ipykernel)",
   "language": "python",
   "name": "python3"
  },
  "language_info": {
   "codemirror_mode": {
    "name": "ipython",
    "version": 3
   },
   "file_extension": ".py",
   "mimetype": "text/x-python",
   "name": "python",
   "nbconvert_exporter": "python",
   "pygments_lexer": "ipython3",
   "version": "3.8.13"
  },
  "widgets": {
   "application/vnd.jupyter.widget-state+json": {
    "state": {
     "0be42dec4e334868891bba28278e9156": {
      "model_module": "@jupyter-widgets/base",
      "model_module_version": "1.2.0",
      "model_name": "LayoutModel",
      "state": {
       "width": "145px"
      }
     },
     "150501db90424207831bf8d3a936265c": {
      "model_module": "@jupyter-widgets/base",
      "model_module_version": "1.2.0",
      "model_name": "LayoutModel",
      "state": {
       "width": "190px"
      }
     },
     "1cbedc440bbf4a268248f71440515770": {
      "model_module": "@jupyter-widgets/controls",
      "model_module_version": "1.5.0",
      "model_name": "DescriptionStyleModel",
      "state": {
       "description_width": ""
      }
     },
     "23d04d165e44497a8534d8ac6ca752e2": {
      "model_module": "@jupyter-widgets/controls",
      "model_module_version": "1.5.0",
      "model_name": "ButtonModel",
      "state": {
       "button_style": "primary",
       "description": "Clear",
       "layout": "IPY_MODEL_5228ca8c877f462cbb059ad814633a52",
       "style": "IPY_MODEL_7021c03cdfb64b238334ba8a653d013a"
      }
     },
     "2b565b58229d4f738fed921bcb5799ee": {
      "model_module": "@jupyter-widgets/controls",
      "model_module_version": "1.5.0",
      "model_name": "HBoxModel",
      "state": {
       "children": [
        "IPY_MODEL_70459ecfd53546049bdea8b237af791c",
        "IPY_MODEL_7c46f69eee8948beb5c3e16beca40ddb",
        "IPY_MODEL_edf8341ade6b4864bf4f8ba01d606a2b",
        "IPY_MODEL_e2a3460a9cda43b793208b8fa7382d43",
        "IPY_MODEL_b0f887b552214851a22b022d9aae9368"
       ],
       "layout": "IPY_MODEL_9fa8e250845f4f208f616fd141a12244"
      }
     },
     "3152285fd724481ba8ae198283da5dea": {
      "model_module": "@jupyter-widgets/controls",
      "model_module_version": "1.5.0",
      "model_name": "DescriptionStyleModel",
      "state": {
       "description_width": ""
      }
     },
     "5228ca8c877f462cbb059ad814633a52": {
      "model_module": "@jupyter-widgets/base",
      "model_module_version": "1.2.0",
      "model_name": "LayoutModel",
      "state": {
       "grid_area": "right",
       "padding": "0px 0px 0px 0px",
       "width": "70px"
      }
     },
     "6bd0fc8be9324cc1af886566e47bfe1d": {
      "model_module": "@jupyter-widgets/base",
      "model_module_version": "1.2.0",
      "model_name": "LayoutModel",
      "state": {
       "grid_template_areas": "\n                                       \". . . . right \"\n                                        ",
       "grid_template_columns": "20% 20% 20% 20% 20%",
       "width": "100%"
      }
     },
     "7021c03cdfb64b238334ba8a653d013a": {
      "model_module": "@jupyter-widgets/controls",
      "model_module_version": "1.5.0",
      "model_name": "ButtonStyleModel",
      "state": {}
     },
     "70459ecfd53546049bdea8b237af791c": {
      "model_module": "@jupyter-widgets/controls",
      "model_module_version": "1.5.0",
      "model_name": "HTMLModel",
      "state": {
       "layout": "IPY_MODEL_150501db90424207831bf8d3a936265c",
       "style": "IPY_MODEL_1cbedc440bbf4a268248f71440515770",
       "value": "<h5>Job ID</h5>"
      }
     },
     "7c46f69eee8948beb5c3e16beca40ddb": {
      "model_module": "@jupyter-widgets/controls",
      "model_module_version": "1.5.0",
      "model_name": "HTMLModel",
      "state": {
       "layout": "IPY_MODEL_0be42dec4e334868891bba28278e9156",
       "style": "IPY_MODEL_3152285fd724481ba8ae198283da5dea",
       "value": "<h5>Backend</h5>"
      }
     },
     "86e6251c9df142b79c8434c454fef827": {
      "model_module": "@jupyter-widgets/controls",
      "model_module_version": "1.5.0",
      "model_name": "GridBoxModel",
      "state": {
       "children": [
        "IPY_MODEL_23d04d165e44497a8534d8ac6ca752e2"
       ],
       "layout": "IPY_MODEL_6bd0fc8be9324cc1af886566e47bfe1d"
      }
     },
     "9fa8e250845f4f208f616fd141a12244": {
      "model_module": "@jupyter-widgets/base",
      "model_module_version": "1.2.0",
      "model_name": "LayoutModel",
      "state": {
       "margin": "0px 0px 0px 37px",
       "width": "600px"
      }
     },
     "af6149b4b78b4f99852f82c6f5fb70e4": {
      "model_module": "@jupyter-widgets/controls",
      "model_module_version": "1.5.0",
      "model_name": "DescriptionStyleModel",
      "state": {
       "description_width": ""
      }
     },
     "b0f887b552214851a22b022d9aae9368": {
      "model_module": "@jupyter-widgets/controls",
      "model_module_version": "1.5.0",
      "model_name": "HTMLModel",
      "state": {
       "layout": "IPY_MODEL_e11585c212de4fc2ba642c4fbd47d030",
       "style": "IPY_MODEL_fe24094c986043ae82aa5002e77e95cd",
       "value": "<h5>Message</h5>"
      }
     },
     "ce2a05e525b2455d932e1d331f6058c3": {
      "model_module": "@jupyter-widgets/base",
      "model_module_version": "1.2.0",
      "model_name": "LayoutModel",
      "state": {
       "width": "70px"
      }
     },
     "ce50d7bdca604ce4b7f7a9015d9f3731": {
      "model_module": "@jupyter-widgets/controls",
      "model_module_version": "1.5.0",
      "model_name": "DescriptionStyleModel",
      "state": {
       "description_width": ""
      }
     },
     "dbbac1bc87274156b82ff7656d08fdbd": {
      "model_module": "@jupyter-widgets/controls",
      "model_module_version": "1.5.0",
      "model_name": "DescriptionStyleModel",
      "state": {
       "description_width": ""
      }
     },
     "e11585c212de4fc2ba642c4fbd47d030": {
      "model_module": "@jupyter-widgets/base",
      "model_module_version": "1.2.0",
      "model_name": "LayoutModel",
      "state": {}
     },
     "e2a3460a9cda43b793208b8fa7382d43": {
      "model_module": "@jupyter-widgets/controls",
      "model_module_version": "1.5.0",
      "model_name": "HTMLModel",
      "state": {
       "layout": "IPY_MODEL_ce2a05e525b2455d932e1d331f6058c3",
       "style": "IPY_MODEL_af6149b4b78b4f99852f82c6f5fb70e4",
       "value": "<h5>Queue</h5>"
      }
     },
     "e4eaa362f4424ef98f1aa44d802e7e0b": {
      "model_module": "@jupyter-widgets/base",
      "model_module_version": "1.2.0",
      "model_name": "LayoutModel",
      "state": {
       "width": "95px"
      }
     },
     "e95dbe6d81dc46db8bc21cd666f68ddb": {
      "model_module": "@jupyter-widgets/base",
      "model_module_version": "1.2.0",
      "model_name": "LayoutModel",
      "state": {
       "margin": "0px 0px 10px 0px"
      }
     },
     "ea44ae16e8b549e3a95ceb77abc71ebb": {
      "model_module": "@jupyter-widgets/controls",
      "model_module_version": "1.5.0",
      "model_name": "HTMLModel",
      "state": {
       "layout": "IPY_MODEL_e95dbe6d81dc46db8bc21cd666f68ddb",
       "style": "IPY_MODEL_dbbac1bc87274156b82ff7656d08fdbd",
       "value": "<p style='font-family: IBM Plex Sans, Arial, Helvetica, sans-serif; font-size: 20px; font-weight: medium;'>Circuit Properties</p>"
      }
     },
     "edf8341ade6b4864bf4f8ba01d606a2b": {
      "model_module": "@jupyter-widgets/controls",
      "model_module_version": "1.5.0",
      "model_name": "HTMLModel",
      "state": {
       "layout": "IPY_MODEL_e4eaa362f4424ef98f1aa44d802e7e0b",
       "style": "IPY_MODEL_ce50d7bdca604ce4b7f7a9015d9f3731",
       "value": "<h5>Status</h5>"
      }
     },
     "fe24094c986043ae82aa5002e77e95cd": {
      "model_module": "@jupyter-widgets/controls",
      "model_module_version": "1.5.0",
      "model_name": "DescriptionStyleModel",
      "state": {
       "description_width": ""
      }
     }
    },
    "version_major": 2,
    "version_minor": 0
   }
  }
 },
 "nbformat": 4,
 "nbformat_minor": 5
}
